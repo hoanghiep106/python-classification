{
 "cells": [
  {
   "cell_type": "code",
   "execution_count": 33,
   "metadata": {},
   "outputs": [],
   "source": [
    "\n",
    "from csv_loader import tweets as csv_tweets\n",
    "from db import tweets\n",
    "import torch\n",
    "import torch.nn as nn\n",
    "from torch.autograd import Variable\n",
    "\n",
    "from nltk.stem import PorterStemmer\n",
    "from nltk.corpus import stopwords\n",
    "\n",
    "stemmer = PorterStemmer()\n",
    "\n",
    "\n",
    "def check_base_word(base_word):\n",
    "\tif base_word and len(base_word) > 1 and base_word.isalpha():\n",
    "\t\tstemmed_word = stemmer.stem(base_word)\n",
    "\t\tif stemmed_word not in base_vector and stemmed_word not in stopwords.words('english'):\n",
    "\t\t\treturn True\n",
    "\treturn False\n",
    "\n",
    "input_size = 1314\n",
    "num_classes = 5\n",
    "\n",
    "class LogisticRegression(nn.Module):\n",
    "    def __init__(self, input_size, num_classes):\n",
    "        super(LogisticRegression, self).__init__()\n",
    "        self.linear = nn.Linear(input_size, 200)\n",
    "        self.linear2 = nn.Linear(200, num_classes)\n",
    "    \n",
    "    def forward(self, x):\n",
    "        out = self.linear(x)\n",
    "        out = self.linear2(out)\n",
    "        return out\n",
    "\n",
    "\n",
    "model = LogisticRegression(input_size, num_classes)\n",
    "model.load_state_dict(torch.load('model.pkl'))\n",
    "                \n",
    "# Transform tweets into vectors\n",
    "for tweet in tweets:\n",
    "    words = list(set(tweet['text'].split()))\n",
    "    stemmed_words = [stemmer.stem(word) for word in words if word and len(word) > 1 and word.isalpha()]\n",
    "    tweet_vector = []\n",
    "    for ele in base_vector:\n",
    "        tweet_vector.append(1 if ele in stemmed_words else 0)\n",
    "    images = Variable(torch.FloatTensor(tweet_vector))\n",
    "    output = model(images)\n",
    "    _, predicted = torch.max(outputs.data, 1)\n",
    "    print(predicted)\n",
    "\n"
   ]
  },
  {
   "cell_type": "code",
   "execution_count": null,
   "metadata": {},
   "outputs": [],
   "source": []
  },
  {
   "cell_type": "code",
   "execution_count": null,
   "metadata": {},
   "outputs": [],
   "source": []
  }
 ],
 "metadata": {
  "kernelspec": {
   "display_name": "Python 3",
   "language": "python",
   "name": "python3"
  },
  "language_info": {
   "codemirror_mode": {
    "name": "ipython",
    "version": 3
   },
   "file_extension": ".py",
   "mimetype": "text/x-python",
   "name": "python",
   "nbconvert_exporter": "python",
   "pygments_lexer": "ipython3",
   "version": "3.6.3"
  }
 },
 "nbformat": 4,
 "nbformat_minor": 2
}
